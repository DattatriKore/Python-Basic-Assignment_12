{
 "cells": [
  {
   "cell_type": "markdown",
   "id": "8357e7a5",
   "metadata": {},
   "source": [
    "Q.[1] : In what modes should the PdfFileReader() and PdfFileWriter() File objects will be opened?\n",
    "\n",
    "Ans:- Read-binary ('rb') for PdfFileReader() and write-binary ('wb') for PdfFileWriter()"
   ]
  },
  {
   "cell_type": "markdown",
   "id": "f08250cb",
   "metadata": {},
   "source": [
    "Q.[2] : From a PdfFileReader object, how do you get a Page object for page 5?\n",
    "    \n",
    "Ans:- Calling getPage(4) will return a Page object for page 5, since page 0 is the first page."
   ]
  },
  {
   "cell_type": "markdown",
   "id": "687a3572",
   "metadata": {},
   "source": [
    "Q.[3] : What PdfFileReader variable stores the number of pages in the PDF document?\n",
    "    \n",
    "Ans:- The numPages variable stores an integer of the number of pages in the PdfFileReader object."
   ]
  },
  {
   "cell_type": "markdown",
   "id": "92bce543",
   "metadata": {},
   "source": [
    "Q.[4] : If a PdfFileReader object’s PDF is encrypted with the password swordfish, what must you do\n",
    "before you can obtain Page objects from it?\n",
    "\n",
    "Ans:- before we obtain the page object, the pdf has to be decrypted by calling .decrypt('swordfish')"
   ]
  },
  {
   "cell_type": "markdown",
   "id": "f5d4dc93",
   "metadata": {},
   "source": [
    "Q.[5] : What methods do you use to rotate a page?\n",
    "    \n",
    "Ans:- The rotateClockwise() and rotateCounterClockwise() methods. The degrees to rotate is passed as an integer argument"
   ]
  },
  {
   "cell_type": "markdown",
   "id": "4f5e51a8",
   "metadata": {},
   "source": [
    "Q.[6] : What is the difference between a Run object and a Paragraph object?\n",
    "    \n",
    "Ans:-\n",
    "    \n",
    "    Paragraph Object :  A document contains multiple paragraphs. A paragraph begins on a new line and contains multiple \n",
    "    runs. \n",
    "    \n",
    "    Run Objects : Runs are contiguous groups of characters within a paragraph with the same style\n",
    "\n"
   ]
  },
  {
   "cell_type": "markdown",
   "id": "d456f33f",
   "metadata": {},
   "source": [
    "Q.[7] : How do you obtain a list of Paragraph objects for a Document object that’s stored in a variable\n",
    "named doc?\n",
    "\n",
    "Ans:- By using doc.paragraphs"
   ]
  },
  {
   "cell_type": "markdown",
   "id": "53ef8167",
   "metadata": {},
   "source": [
    "Q.[8] : What type of object has bold, underline, italic, strike, and outline variables?\n",
    "    \n",
    "Ans:- A Run object has bold, underline,italic,strike and outline variables"
   ]
  },
  {
   "cell_type": "markdown",
   "id": "a6e8aa53",
   "metadata": {},
   "source": [
    "Q.[9] : What is the difference between False, True, and None for the bold variable?\n",
    "    \n",
    "Ans:- True always makes the Run object bolded and False makes it always not bolded, no matter what the style’s bold setting is. None will make the Run object just use the style’s bold setting"
   ]
  },
  {
   "cell_type": "markdown",
   "id": "e9d9f54a",
   "metadata": {},
   "source": [
    "Q.[10] : How do you create a Document object for a new Word document?\n",
    "    \n",
    "Ans:- Call the docx.Document() function."
   ]
  },
  {
   "cell_type": "markdown",
   "id": "79a38a33",
   "metadata": {},
   "source": [
    "Q.[11] : How do you add a paragraph with the text 'Hello, there!'' to a Document object stored in a variable named doc?\n",
    "\n",
    "Ans:- doc.add_paragraph('Hello there!')"
   ]
  },
  {
   "cell_type": "markdown",
   "id": "8ed6b55a",
   "metadata": {},
   "source": [
    "Q.[12] : What integers represent the levels of headings available in Word documents?\n",
    "    \n",
    "Ans:- The integers 0, 1, 2, 3, and 4"
   ]
  },
  {
   "cell_type": "code",
   "execution_count": null,
   "id": "c5dd6518",
   "metadata": {},
   "outputs": [],
   "source": []
  }
 ],
 "metadata": {
  "kernelspec": {
   "display_name": "Python 3 (ipykernel)",
   "language": "python",
   "name": "python3"
  },
  "language_info": {
   "codemirror_mode": {
    "name": "ipython",
    "version": 3
   },
   "file_extension": ".py",
   "mimetype": "text/x-python",
   "name": "python",
   "nbconvert_exporter": "python",
   "pygments_lexer": "ipython3",
   "version": "3.9.13"
  }
 },
 "nbformat": 4,
 "nbformat_minor": 5
}
